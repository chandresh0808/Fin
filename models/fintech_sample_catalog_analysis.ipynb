{
 "cells": [
  {
   "cell_type": "code",
   "execution_count": 1,
   "metadata": {
    "collapsed": true
   },
   "outputs": [],
   "source": [
    "import pandas\n",
    "import numpy\n",
    "import difflib\n",
    "\n",
    "import matplotlib\n",
    "from matplotlib import pyplot\n",
    "\n",
    "import seaborn\n",
    "\n",
    "from scipy.stats import mode\n",
    "\n",
    "from sklearn import metrics\n",
    "\n",
    "%matplotlib inline\n",
    "pandas.options.display.max_columns = 50"
   ]
  },
  {
   "cell_type": "code",
   "execution_count": 2,
   "metadata": {},
   "outputs": [
    {
     "name": "stderr",
     "output_type": "stream",
     "text": [
      "",
      "  interactivity=interactivity, compiler=compiler, result=result)\n"
     ]
    }
   ],
   "source": [
    "#read csv\n",
    "master_catalog_data_frame = pandas.read_csv('Master_Catalog_Sheet1.csv')"
   ]
  },
  {
   "cell_type": "code",
   "execution_count": 3,
   "metadata": {},
   "outputs": [
    {
     "data": {
      "text/html": [
       "<div>\n",
       "<style>\n",
       "    .dataframe thead tr:only-child th {\n",
       "        text-align: right;\n",
       "    }\n",
       "\n",
       "    .dataframe thead th {\n",
       "        text-align: left;\n",
       "    }\n",
       "\n",
       "    .dataframe tbody tr th {\n",
       "        vertical-align: top;\n",
       "    }\n",
       "</style>\n",
       "<table border=\"1\" class=\"dataframe\">\n",
       "  <thead>\n",
       "    <tr style=\"text-align: right;\">\n",
       "      <th></th>\n",
       "      <th>MASTER_CATALOG_ID</th>\n",
       "      <th>UPC_ITEM_CODE</th>\n",
       "      <th>UPC_PACK_CODE</th>\n",
       "      <th>UPC_CASE_CODE</th>\n",
       "      <th>MANUFACTURER_NAME</th>\n",
       "      <th>BRAND_NAME</th>\n",
       "      <th>PRODUCT_NAME</th>\n",
       "      <th>PACKS_PER_CASE</th>\n",
       "      <th>UNITS_PER_PACK</th>\n",
       "      <th>UNIT_OF_MEASURE_ID</th>\n",
       "      <th>UNIT_SIZE</th>\n",
       "      <th>MAJOR_MINOR_ID</th>\n",
       "      <th>MATERIAL_OF_CONTAINER_ID</th>\n",
       "      <th>ALC_BY_VOL</th>\n",
       "      <th>PRODUCT_CLASS</th>\n",
       "      <th>SUPPLIER_ID</th>\n",
       "      <th>CLEAN_UPC</th>\n",
       "      <th>DATE_INSERTED</th>\n",
       "      <th>DATE_UPDATED</th>\n",
       "      <th>FIRST_PROCESSED_DATE</th>\n",
       "      <th>LAST_PROCESSED_DATE</th>\n",
       "      <th>STANDARD_MULTIPLIER_ADJUSTMENT</th>\n",
       "      <th>UPDATED_BY</th>\n",
       "      <th>SUBMITTED_BY</th>\n",
       "      <th>APPROVED_BY</th>\n",
       "      <th>PRODUCT_COLOR</th>\n",
       "      <th>PRODUCT_TYPE</th>\n",
       "      <th>MC_METAPHONE</th>\n",
       "      <th>AVG_MIN_PRICE</th>\n",
       "      <th>AVG_MAX_PRICE</th>\n",
       "      <th>CASE_CLEAN_UPC</th>\n",
       "      <th>STD_NAME</th>\n",
       "      <th>ORIG_PRODUCT_NAME</th>\n",
       "      <th>STD_MATCH_ABS</th>\n",
       "      <th>STD_MATCH_POS</th>\n",
       "      <th>DISPLAY_NAME_OVERRIDE</th>\n",
       "      <th>DISPLAY_NAME_DEFAULT</th>\n",
       "      <th>IS_MASKED</th>\n",
       "      <th>PACKAGE_DETAIL</th>\n",
       "    </tr>\n",
       "  </thead>\n",
       "  <tbody>\n",
       "    <tr>\n",
       "      <th>0</th>\n",
       "      <td>2723</td>\n",
       "      <td>NaN</td>\n",
       "      <td>82100738366</td>\n",
       "      <td>NaN</td>\n",
       "      <td>Constellation Brands</td>\n",
       "      <td>Blufeld</td>\n",
       "      <td>Blufeld Mosel Riesling</td>\n",
       "      <td>1</td>\n",
       "      <td>12</td>\n",
       "      <td>1</td>\n",
       "      <td>0.7500</td>\n",
       "      <td>0.0</td>\n",
       "      <td>0.0</td>\n",
       "      <td>12</td>\n",
       "      <td>2</td>\n",
       "      <td>NaN</td>\n",
       "      <td>82100738366</td>\n",
       "      <td>21-DEC-10 06.35.20.000000000 PM</td>\n",
       "      <td>21-DEC-10 06.35.20.000000000 PM</td>\n",
       "      <td>01-JAN-01 12.00.00.000000000 AM</td>\n",
       "      <td>01-JAN-01 12.00.00.000000000 AM</td>\n",
       "      <td>9999</td>\n",
       "      <td>50</td>\n",
       "      <td>50</td>\n",
       "      <td>50</td>\n",
       "      <td>White</td>\n",
       "      <td>Riesling</td>\n",
       "      <td>NaN</td>\n",
       "      <td>6.0</td>\n",
       "      <td>86.0</td>\n",
       "      <td>NaN</td>\n",
       "      <td>Blufeld Mosel Riesling 1/12 750ml Bottle</td>\n",
       "      <td>750 BLUFELD MOSEL RIESLING</td>\n",
       "      <td>Blufeld Mosel Riesling 750ml</td>\n",
       "      <td>Blufeld Mosel Riesling</td>\n",
       "      <td>NaN</td>\n",
       "      <td>Blufeld Mosel Riesling 1/12 750 ml Bottle</td>\n",
       "      <td>0</td>\n",
       "      <td>1/12 750 ml Bottle</td>\n",
       "    </tr>\n",
       "    <tr>\n",
       "      <th>1</th>\n",
       "      <td>2724</td>\n",
       "      <td>NaN</td>\n",
       "      <td>86036104516</td>\n",
       "      <td>NaN</td>\n",
       "      <td>Heaven Hill Distilleries</td>\n",
       "      <td>Christian Brothers</td>\n",
       "      <td>C.B.Ruby Port</td>\n",
       "      <td>1</td>\n",
       "      <td>6</td>\n",
       "      <td>1</td>\n",
       "      <td>1.5000</td>\n",
       "      <td>0.0</td>\n",
       "      <td>0.0</td>\n",
       "      <td>19</td>\n",
       "      <td>2</td>\n",
       "      <td>NaN</td>\n",
       "      <td>86036104516</td>\n",
       "      <td>21-DEC-10 06.35.20.000000000 PM</td>\n",
       "      <td>21-DEC-10 06.35.20.000000000 PM</td>\n",
       "      <td>01-JAN-01 12.00.00.000000000 AM</td>\n",
       "      <td>01-JAN-01 12.00.00.000000000 AM</td>\n",
       "      <td>9999</td>\n",
       "      <td>50</td>\n",
       "      <td>50</td>\n",
       "      <td>50</td>\n",
       "      <td>Red</td>\n",
       "      <td>Port Blend</td>\n",
       "      <td>NaN</td>\n",
       "      <td>10.0</td>\n",
       "      <td>45.0</td>\n",
       "      <td>NaN</td>\n",
       "      <td>Ruby Port 1/6 1.5ltr Bottle</td>\n",
       "      <td>C.B.RUBY PORT</td>\n",
       "      <td>Ruby Port 1.5ltr</td>\n",
       "      <td>Ruby Port</td>\n",
       "      <td>NaN</td>\n",
       "      <td>C.B.Ruby Port 1/6 1.5 ltr Bottle</td>\n",
       "      <td>0</td>\n",
       "      <td>1/6 1.5 ltr Bottle</td>\n",
       "    </tr>\n",
       "    <tr>\n",
       "      <th>2</th>\n",
       "      <td>2725</td>\n",
       "      <td>NaN</td>\n",
       "      <td>87356421116</td>\n",
       "      <td>NaN</td>\n",
       "      <td>Constellation Brands</td>\n",
       "      <td>Clos Du Bois</td>\n",
       "      <td>Clos Du Bois Merlot Sonoma City</td>\n",
       "      <td>1</td>\n",
       "      <td>12</td>\n",
       "      <td>1</td>\n",
       "      <td>0.0875</td>\n",
       "      <td>0.0</td>\n",
       "      <td>0.0</td>\n",
       "      <td>14</td>\n",
       "      <td>2</td>\n",
       "      <td>NaN</td>\n",
       "      <td>87356421116</td>\n",
       "      <td>21-DEC-10 06.35.20.000000000 PM</td>\n",
       "      <td>21-DEC-10 06.35.20.000000000 PM</td>\n",
       "      <td>01-JAN-01 12.00.00.000000000 AM</td>\n",
       "      <td>01-JAN-01 12.00.00.000000000 AM</td>\n",
       "      <td>9999</td>\n",
       "      <td>50</td>\n",
       "      <td>50</td>\n",
       "      <td>50</td>\n",
       "      <td>Red</td>\n",
       "      <td>Merlot</td>\n",
       "      <td>NaN</td>\n",
       "      <td>6.0</td>\n",
       "      <td>92.0</td>\n",
       "      <td>NaN</td>\n",
       "      <td>Clos DU Bois Merlot Sonoma City 1/12 88ml Bottle</td>\n",
       "      <td>375 CLOS DU BOIS MERLOT SON CTY</td>\n",
       "      <td>Clos DU Bois Merlot Sonoma City 88ml</td>\n",
       "      <td>Clos DU Bois Merlot Sonoma City</td>\n",
       "      <td>NaN</td>\n",
       "      <td>Clos Du Bois Merlot Sonoma City 1/12 88 ml Bot...</td>\n",
       "      <td>0</td>\n",
       "      <td>1/12 88 ml Bottle</td>\n",
       "    </tr>\n",
       "    <tr>\n",
       "      <th>3</th>\n",
       "      <td>2726</td>\n",
       "      <td>NaN</td>\n",
       "      <td>87356405123</td>\n",
       "      <td>NaN</td>\n",
       "      <td>Constellation Brands</td>\n",
       "      <td>Clos Du Bois</td>\n",
       "      <td>Clos Du Bois Cabernet Sauvignon</td>\n",
       "      <td>1</td>\n",
       "      <td>12</td>\n",
       "      <td>1</td>\n",
       "      <td>0.7500</td>\n",
       "      <td>0.0</td>\n",
       "      <td>0.0</td>\n",
       "      <td>12</td>\n",
       "      <td>2</td>\n",
       "      <td>NaN</td>\n",
       "      <td>87356405123</td>\n",
       "      <td>21-DEC-10 06.35.20.000000000 PM</td>\n",
       "      <td>21-DEC-10 06.35.20.000000000 PM</td>\n",
       "      <td>01-JAN-01 12.00.00.000000000 AM</td>\n",
       "      <td>01-JAN-01 12.00.00.000000000 AM</td>\n",
       "      <td>9999</td>\n",
       "      <td>50</td>\n",
       "      <td>50</td>\n",
       "      <td>50</td>\n",
       "      <td>Red</td>\n",
       "      <td>Cabernet Sauvignon</td>\n",
       "      <td>NaN</td>\n",
       "      <td>9.0</td>\n",
       "      <td>144.0</td>\n",
       "      <td>NaN</td>\n",
       "      <td>Clos DU Bois Cabernet Sauvignon 1/12 750ml Bottle</td>\n",
       "      <td>CLOS DU BOIS CABERNET SAUVIGNON</td>\n",
       "      <td>Clos DU Bois Cabernet Sauvignon 750ml</td>\n",
       "      <td>Clos DU Bois Cabernet Sauvignon</td>\n",
       "      <td>NaN</td>\n",
       "      <td>Clos Du Bois Cabernet Sauvignon 1/12 750 ml Bo...</td>\n",
       "      <td>0</td>\n",
       "      <td>1/12 750 ml Bottle</td>\n",
       "    </tr>\n",
       "    <tr>\n",
       "      <th>4</th>\n",
       "      <td>2727</td>\n",
       "      <td>NaN</td>\n",
       "      <td>87356510124</td>\n",
       "      <td>NaN</td>\n",
       "      <td>Constellation Brands</td>\n",
       "      <td>Clos Du Bois</td>\n",
       "      <td>Clos Du Bois Chardonnay</td>\n",
       "      <td>1</td>\n",
       "      <td>12</td>\n",
       "      <td>1</td>\n",
       "      <td>0.7500</td>\n",
       "      <td>0.0</td>\n",
       "      <td>0.0</td>\n",
       "      <td>8</td>\n",
       "      <td>2</td>\n",
       "      <td>NaN</td>\n",
       "      <td>87356510124</td>\n",
       "      <td>21-DEC-10 06.35.20.000000000 PM</td>\n",
       "      <td>21-DEC-10 06.35.20.000000000 PM</td>\n",
       "      <td>01-JAN-01 12.00.00.000000000 AM</td>\n",
       "      <td>01-JAN-01 12.00.00.000000000 AM</td>\n",
       "      <td>9999</td>\n",
       "      <td>50</td>\n",
       "      <td>50</td>\n",
       "      <td>50</td>\n",
       "      <td>White</td>\n",
       "      <td>Chardonnay</td>\n",
       "      <td>NaN</td>\n",
       "      <td>8.0</td>\n",
       "      <td>108.0</td>\n",
       "      <td>NaN</td>\n",
       "      <td>Clos DU Bois Chardonnay 1/12 750ml Bottle</td>\n",
       "      <td>CLOS DU BOIS CHARDONNAY</td>\n",
       "      <td>Clos DU Bois Chardonnay 750ml</td>\n",
       "      <td>Clos DU Bois Chardonnay</td>\n",
       "      <td>NaN</td>\n",
       "      <td>Clos Du Bois Chardonnay 1/12 750 ml Bottle</td>\n",
       "      <td>0</td>\n",
       "      <td>1/12 750 ml Bottle</td>\n",
       "    </tr>\n",
       "  </tbody>\n",
       "</table>\n",
       "</div>"
      ],
      "text/plain": [
       "   MASTER_CATALOG_ID  UPC_ITEM_CODE  UPC_PACK_CODE  UPC_CASE_CODE  \\\n",
       "0               2723            NaN    82100738366            NaN   \n",
       "1               2724            NaN    86036104516            NaN   \n",
       "2               2725            NaN    87356421116            NaN   \n",
       "3               2726            NaN    87356405123            NaN   \n",
       "4               2727            NaN    87356510124            NaN   \n",
       "\n",
       "          MANUFACTURER_NAME          BRAND_NAME  \\\n",
       "0      Constellation Brands             Blufeld   \n",
       "1  Heaven Hill Distilleries  Christian Brothers   \n",
       "2      Constellation Brands        Clos Du Bois   \n",
       "3      Constellation Brands        Clos Du Bois   \n",
       "4      Constellation Brands        Clos Du Bois   \n",
       "\n",
       "                      PRODUCT_NAME  PACKS_PER_CASE  UNITS_PER_PACK  \\\n",
       "0           Blufeld Mosel Riesling               1              12   \n",
       "1                    C.B.Ruby Port               1               6   \n",
       "2  Clos Du Bois Merlot Sonoma City               1              12   \n",
       "3  Clos Du Bois Cabernet Sauvignon               1              12   \n",
       "4          Clos Du Bois Chardonnay               1              12   \n",
       "\n",
       "   UNIT_OF_MEASURE_ID  UNIT_SIZE  MAJOR_MINOR_ID  MATERIAL_OF_CONTAINER_ID  \\\n",
       "0                   1     0.7500             0.0                       0.0   \n",
       "1                   1     1.5000             0.0                       0.0   \n",
       "2                   1     0.0875             0.0                       0.0   \n",
       "3                   1     0.7500             0.0                       0.0   \n",
       "4                   1     0.7500             0.0                       0.0   \n",
       "\n",
       "   ALC_BY_VOL  PRODUCT_CLASS SUPPLIER_ID    CLEAN_UPC  \\\n",
       "0          12              2         NaN  82100738366   \n",
       "1          19              2         NaN  86036104516   \n",
       "2          14              2         NaN  87356421116   \n",
       "3          12              2         NaN  87356405123   \n",
       "4           8              2         NaN  87356510124   \n",
       "\n",
       "                     DATE_INSERTED                     DATE_UPDATED  \\\n",
       "0  21-DEC-10 06.35.20.000000000 PM  21-DEC-10 06.35.20.000000000 PM   \n",
       "1  21-DEC-10 06.35.20.000000000 PM  21-DEC-10 06.35.20.000000000 PM   \n",
       "2  21-DEC-10 06.35.20.000000000 PM  21-DEC-10 06.35.20.000000000 PM   \n",
       "3  21-DEC-10 06.35.20.000000000 PM  21-DEC-10 06.35.20.000000000 PM   \n",
       "4  21-DEC-10 06.35.20.000000000 PM  21-DEC-10 06.35.20.000000000 PM   \n",
       "\n",
       "              FIRST_PROCESSED_DATE              LAST_PROCESSED_DATE  \\\n",
       "0  01-JAN-01 12.00.00.000000000 AM  01-JAN-01 12.00.00.000000000 AM   \n",
       "1  01-JAN-01 12.00.00.000000000 AM  01-JAN-01 12.00.00.000000000 AM   \n",
       "2  01-JAN-01 12.00.00.000000000 AM  01-JAN-01 12.00.00.000000000 AM   \n",
       "3  01-JAN-01 12.00.00.000000000 AM  01-JAN-01 12.00.00.000000000 AM   \n",
       "4  01-JAN-01 12.00.00.000000000 AM  01-JAN-01 12.00.00.000000000 AM   \n",
       "\n",
       "   STANDARD_MULTIPLIER_ADJUSTMENT  UPDATED_BY  SUBMITTED_BY  APPROVED_BY  \\\n",
       "0                            9999          50            50           50   \n",
       "1                            9999          50            50           50   \n",
       "2                            9999          50            50           50   \n",
       "3                            9999          50            50           50   \n",
       "4                            9999          50            50           50   \n",
       "\n",
       "  PRODUCT_COLOR        PRODUCT_TYPE  MC_METAPHONE  AVG_MIN_PRICE  \\\n",
       "0         White            Riesling           NaN            6.0   \n",
       "1           Red          Port Blend           NaN           10.0   \n",
       "2           Red              Merlot           NaN            6.0   \n",
       "3           Red  Cabernet Sauvignon           NaN            9.0   \n",
       "4         White          Chardonnay           NaN            8.0   \n",
       "\n",
       "   AVG_MAX_PRICE  CASE_CLEAN_UPC  \\\n",
       "0           86.0             NaN   \n",
       "1           45.0             NaN   \n",
       "2           92.0             NaN   \n",
       "3          144.0             NaN   \n",
       "4          108.0             NaN   \n",
       "\n",
       "                                            STD_NAME  \\\n",
       "0           Blufeld Mosel Riesling 1/12 750ml Bottle   \n",
       "1                        Ruby Port 1/6 1.5ltr Bottle   \n",
       "2   Clos DU Bois Merlot Sonoma City 1/12 88ml Bottle   \n",
       "3  Clos DU Bois Cabernet Sauvignon 1/12 750ml Bottle   \n",
       "4          Clos DU Bois Chardonnay 1/12 750ml Bottle   \n",
       "\n",
       "                 ORIG_PRODUCT_NAME                          STD_MATCH_ABS  \\\n",
       "0       750 BLUFELD MOSEL RIESLING           Blufeld Mosel Riesling 750ml   \n",
       "1                    C.B.RUBY PORT                       Ruby Port 1.5ltr   \n",
       "2  375 CLOS DU BOIS MERLOT SON CTY   Clos DU Bois Merlot Sonoma City 88ml   \n",
       "3  CLOS DU BOIS CABERNET SAUVIGNON  Clos DU Bois Cabernet Sauvignon 750ml   \n",
       "4          CLOS DU BOIS CHARDONNAY          Clos DU Bois Chardonnay 750ml   \n",
       "\n",
       "                     STD_MATCH_POS  DISPLAY_NAME_OVERRIDE  \\\n",
       "0           Blufeld Mosel Riesling                    NaN   \n",
       "1                        Ruby Port                    NaN   \n",
       "2  Clos DU Bois Merlot Sonoma City                    NaN   \n",
       "3  Clos DU Bois Cabernet Sauvignon                    NaN   \n",
       "4          Clos DU Bois Chardonnay                    NaN   \n",
       "\n",
       "                                DISPLAY_NAME_DEFAULT  IS_MASKED  \\\n",
       "0         Blufeld Mosel Riesling 1/12 750 ml Bottle           0   \n",
       "1                  C.B.Ruby Port 1/6 1.5 ltr Bottle           0   \n",
       "2  Clos Du Bois Merlot Sonoma City 1/12 88 ml Bot...          0   \n",
       "3  Clos Du Bois Cabernet Sauvignon 1/12 750 ml Bo...          0   \n",
       "4        Clos Du Bois Chardonnay 1/12 750 ml Bottle           0   \n",
       "\n",
       "        PACKAGE_DETAIL  \n",
       "0  1/12 750 ml Bottle   \n",
       "1  1/6 1.5 ltr Bottle   \n",
       "2   1/12 88 ml Bottle   \n",
       "3  1/12 750 ml Bottle   \n",
       "4  1/12 750 ml Bottle   "
      ]
     },
     "execution_count": 3,
     "metadata": {},
     "output_type": "execute_result"
    }
   ],
   "source": [
    "master_catalog_data_frame.head()"
   ]
  },
  {
   "cell_type": "code",
   "execution_count": 4,
   "metadata": {},
   "outputs": [
    {
     "data": {
      "text/plain": [
       "33657"
      ]
     },
     "execution_count": 4,
     "metadata": {},
     "output_type": "execute_result"
    }
   ],
   "source": [
    "len(master_catalog_data_frame)"
   ]
  },
  {
   "cell_type": "code",
   "execution_count": 5,
   "metadata": {},
   "outputs": [
    {
     "data": {
      "text/plain": [
       "39"
      ]
     },
     "execution_count": 5,
     "metadata": {},
     "output_type": "execute_result"
    }
   ],
   "source": [
    "len(master_catalog_data_frame.columns)"
   ]
  },
  {
   "cell_type": "code",
   "execution_count": 6,
   "metadata": {},
   "outputs": [
    {
     "data": {
      "text/plain": [
       "MASTER_CATALOG_ID                   int64\n",
       "UPC_ITEM_CODE                     float64\n",
       "UPC_PACK_CODE                       int64\n",
       "UPC_CASE_CODE                     float64\n",
       "MANUFACTURER_NAME                  object\n",
       "BRAND_NAME                         object\n",
       "PRODUCT_NAME                       object\n",
       "PACKS_PER_CASE                      int64\n",
       "UNITS_PER_PACK                      int64\n",
       "UNIT_OF_MEASURE_ID                  int64\n",
       "UNIT_SIZE                         float64\n",
       "MAJOR_MINOR_ID                    float64\n",
       "MATERIAL_OF_CONTAINER_ID          float64\n",
       "ALC_BY_VOL                          int64\n",
       "PRODUCT_CLASS                       int64\n",
       "SUPPLIER_ID                        object\n",
       "CLEAN_UPC                           int64\n",
       "DATE_INSERTED                      object\n",
       "DATE_UPDATED                       object\n",
       "FIRST_PROCESSED_DATE               object\n",
       "LAST_PROCESSED_DATE                object\n",
       "STANDARD_MULTIPLIER_ADJUSTMENT      int64\n",
       "UPDATED_BY                          int64\n",
       "SUBMITTED_BY                        int64\n",
       "APPROVED_BY                         int64\n",
       "PRODUCT_COLOR                      object\n",
       "PRODUCT_TYPE                       object\n",
       "MC_METAPHONE                      float64\n",
       "AVG_MIN_PRICE                     float64\n",
       "AVG_MAX_PRICE                     float64\n",
       "CASE_CLEAN_UPC                    float64\n",
       "STD_NAME                           object\n",
       "ORIG_PRODUCT_NAME                  object\n",
       "STD_MATCH_ABS                      object\n",
       "STD_MATCH_POS                      object\n",
       "DISPLAY_NAME_OVERRIDE             float64\n",
       "DISPLAY_NAME_DEFAULT               object\n",
       "IS_MASKED                           int64\n",
       "PACKAGE_DETAIL                     object\n",
       "dtype: object"
      ]
     },
     "execution_count": 6,
     "metadata": {},
     "output_type": "execute_result"
    }
   ],
   "source": [
    "master_catalog_data_frame.dtypes"
   ]
  },
  {
   "cell_type": "code",
   "execution_count": 7,
   "metadata": {},
   "outputs": [
    {
     "data": {
      "text/plain": [
       "MASTER_CATALOG_ID                 100.000000\n",
       "UPC_ITEM_CODE                       0.000000\n",
       "UPC_PACK_CODE                     100.000000\n",
       "UPC_CASE_CODE                      75.963395\n",
       "MANUFACTURER_NAME                 100.000000\n",
       "BRAND_NAME                        100.000000\n",
       "PRODUCT_NAME                      100.000000\n",
       "PACKS_PER_CASE                    100.000000\n",
       "UNITS_PER_PACK                    100.000000\n",
       "UNIT_OF_MEASURE_ID                100.000000\n",
       "UNIT_SIZE                         100.000000\n",
       "MAJOR_MINOR_ID                     60.364857\n",
       "MATERIAL_OF_CONTAINER_ID           60.364857\n",
       "ALC_BY_VOL                        100.000000\n",
       "PRODUCT_CLASS                     100.000000\n",
       "SUPPLIER_ID                        64.292718\n",
       "CLEAN_UPC                         100.000000\n",
       "DATE_INSERTED                     100.000000\n",
       "DATE_UPDATED                      100.000000\n",
       "FIRST_PROCESSED_DATE               60.364857\n",
       "LAST_PROCESSED_DATE                60.364857\n",
       "STANDARD_MULTIPLIER_ADJUSTMENT    100.000000\n",
       "UPDATED_BY                        100.000000\n",
       "SUBMITTED_BY                      100.000000\n",
       "APPROVED_BY                       100.000000\n",
       "PRODUCT_COLOR                      99.997029\n",
       "PRODUCT_TYPE                      100.000000\n",
       "MC_METAPHONE                        0.000000\n",
       "AVG_MIN_PRICE                     100.000000\n",
       "AVG_MAX_PRICE                     100.000000\n",
       "CASE_CLEAN_UPC                      0.011885\n",
       "STD_NAME                           68.146299\n",
       "ORIG_PRODUCT_NAME                  35.416110\n",
       "STD_MATCH_ABS                     100.000000\n",
       "STD_MATCH_POS                     100.000000\n",
       "DISPLAY_NAME_OVERRIDE               0.000000\n",
       "DISPLAY_NAME_DEFAULT              100.000000\n",
       "IS_MASKED                         100.000000\n",
       "PACKAGE_DETAIL                    100.000000\n",
       "dtype: float64"
      ]
     },
     "execution_count": 7,
     "metadata": {},
     "output_type": "execute_result"
    }
   ],
   "source": [
    "#check empty values\n",
    "def check_nan(data_frame):\n",
    "    return numpy.divide(data_frame.count() * 100.0 , len(data_frame))\n",
    "\n",
    "check_nan(master_catalog_data_frame)"
   ]
  },
  {
   "cell_type": "code",
   "execution_count": 8,
   "metadata": {},
   "outputs": [
    {
     "data": {
      "text/html": [
       "<div>\n",
       "<style>\n",
       "    .dataframe thead tr:only-child th {\n",
       "        text-align: right;\n",
       "    }\n",
       "\n",
       "    .dataframe thead th {\n",
       "        text-align: left;\n",
       "    }\n",
       "\n",
       "    .dataframe tbody tr th {\n",
       "        vertical-align: top;\n",
       "    }\n",
       "</style>\n",
       "<table border=\"1\" class=\"dataframe\">\n",
       "  <thead>\n",
       "    <tr style=\"text-align: right;\">\n",
       "      <th></th>\n",
       "      <th>MASTER_CATALOG_ID</th>\n",
       "      <th>MANUFACTURER_NAME</th>\n",
       "      <th>BRAND_NAME</th>\n",
       "      <th>PRODUCT_NAME</th>\n",
       "      <th>PACKS_PER_CASE</th>\n",
       "      <th>UNITS_PER_PACK</th>\n",
       "      <th>UNIT_SIZE</th>\n",
       "      <th>PRODUCT_COLOR</th>\n",
       "      <th>PRODUCT_TYPE</th>\n",
       "      <th>STD_NAME</th>\n",
       "      <th>PACKAGE_DETAIL</th>\n",
       "    </tr>\n",
       "  </thead>\n",
       "  <tbody>\n",
       "    <tr>\n",
       "      <th>0</th>\n",
       "      <td>2723</td>\n",
       "      <td>Constellation Brands</td>\n",
       "      <td>Blufeld</td>\n",
       "      <td>Blufeld Mosel Riesling</td>\n",
       "      <td>1</td>\n",
       "      <td>12</td>\n",
       "      <td>0.7500</td>\n",
       "      <td>White</td>\n",
       "      <td>Riesling</td>\n",
       "      <td>Blufeld Mosel Riesling 1/12 750ml Bottle</td>\n",
       "      <td>1/12 750 ml Bottle</td>\n",
       "    </tr>\n",
       "    <tr>\n",
       "      <th>1</th>\n",
       "      <td>2724</td>\n",
       "      <td>Heaven Hill Distilleries</td>\n",
       "      <td>Christian Brothers</td>\n",
       "      <td>C.B.Ruby Port</td>\n",
       "      <td>1</td>\n",
       "      <td>6</td>\n",
       "      <td>1.5000</td>\n",
       "      <td>Red</td>\n",
       "      <td>Port Blend</td>\n",
       "      <td>Ruby Port 1/6 1.5ltr Bottle</td>\n",
       "      <td>1/6 1.5 ltr Bottle</td>\n",
       "    </tr>\n",
       "    <tr>\n",
       "      <th>2</th>\n",
       "      <td>2725</td>\n",
       "      <td>Constellation Brands</td>\n",
       "      <td>Clos Du Bois</td>\n",
       "      <td>Clos Du Bois Merlot Sonoma City</td>\n",
       "      <td>1</td>\n",
       "      <td>12</td>\n",
       "      <td>0.0875</td>\n",
       "      <td>Red</td>\n",
       "      <td>Merlot</td>\n",
       "      <td>Clos DU Bois Merlot Sonoma City 1/12 88ml Bottle</td>\n",
       "      <td>1/12 88 ml Bottle</td>\n",
       "    </tr>\n",
       "    <tr>\n",
       "      <th>3</th>\n",
       "      <td>2726</td>\n",
       "      <td>Constellation Brands</td>\n",
       "      <td>Clos Du Bois</td>\n",
       "      <td>Clos Du Bois Cabernet Sauvignon</td>\n",
       "      <td>1</td>\n",
       "      <td>12</td>\n",
       "      <td>0.7500</td>\n",
       "      <td>Red</td>\n",
       "      <td>Cabernet Sauvignon</td>\n",
       "      <td>Clos DU Bois Cabernet Sauvignon 1/12 750ml Bottle</td>\n",
       "      <td>1/12 750 ml Bottle</td>\n",
       "    </tr>\n",
       "    <tr>\n",
       "      <th>4</th>\n",
       "      <td>2727</td>\n",
       "      <td>Constellation Brands</td>\n",
       "      <td>Clos Du Bois</td>\n",
       "      <td>Clos Du Bois Chardonnay</td>\n",
       "      <td>1</td>\n",
       "      <td>12</td>\n",
       "      <td>0.7500</td>\n",
       "      <td>White</td>\n",
       "      <td>Chardonnay</td>\n",
       "      <td>Clos DU Bois Chardonnay 1/12 750ml Bottle</td>\n",
       "      <td>1/12 750 ml Bottle</td>\n",
       "    </tr>\n",
       "  </tbody>\n",
       "</table>\n",
       "</div>"
      ],
      "text/plain": [
       "   MASTER_CATALOG_ID         MANUFACTURER_NAME          BRAND_NAME  \\\n",
       "0               2723      Constellation Brands             Blufeld   \n",
       "1               2724  Heaven Hill Distilleries  Christian Brothers   \n",
       "2               2725      Constellation Brands        Clos Du Bois   \n",
       "3               2726      Constellation Brands        Clos Du Bois   \n",
       "4               2727      Constellation Brands        Clos Du Bois   \n",
       "\n",
       "                      PRODUCT_NAME  PACKS_PER_CASE  UNITS_PER_PACK  UNIT_SIZE  \\\n",
       "0           Blufeld Mosel Riesling               1              12     0.7500   \n",
       "1                    C.B.Ruby Port               1               6     1.5000   \n",
       "2  Clos Du Bois Merlot Sonoma City               1              12     0.0875   \n",
       "3  Clos Du Bois Cabernet Sauvignon               1              12     0.7500   \n",
       "4          Clos Du Bois Chardonnay               1              12     0.7500   \n",
       "\n",
       "  PRODUCT_COLOR        PRODUCT_TYPE  \\\n",
       "0         White            Riesling   \n",
       "1           Red          Port Blend   \n",
       "2           Red              Merlot   \n",
       "3           Red  Cabernet Sauvignon   \n",
       "4         White          Chardonnay   \n",
       "\n",
       "                                            STD_NAME       PACKAGE_DETAIL  \n",
       "0           Blufeld Mosel Riesling 1/12 750ml Bottle  1/12 750 ml Bottle   \n",
       "1                        Ruby Port 1/6 1.5ltr Bottle  1/6 1.5 ltr Bottle   \n",
       "2   Clos DU Bois Merlot Sonoma City 1/12 88ml Bottle   1/12 88 ml Bottle   \n",
       "3  Clos DU Bois Cabernet Sauvignon 1/12 750ml Bottle  1/12 750 ml Bottle   \n",
       "4          Clos DU Bois Chardonnay 1/12 750ml Bottle  1/12 750 ml Bottle   "
      ]
     },
     "execution_count": 8,
     "metadata": {},
     "output_type": "execute_result"
    }
   ],
   "source": [
    "selected_catalog_data_frame = master_catalog_data_frame[[\n",
    "    'MASTER_CATALOG_ID',\n",
    "    'MANUFACTURER_NAME',\n",
    "    'BRAND_NAME',\n",
    "    'PRODUCT_NAME',\n",
    "    'PACKS_PER_CASE',\n",
    "    'UNITS_PER_PACK',\n",
    "    'UNIT_SIZE',\n",
    "    'PRODUCT_COLOR',\n",
    "    'PRODUCT_TYPE',\n",
    "    'STD_NAME',\n",
    "    'PACKAGE_DETAIL'\n",
    "]]\n",
    "\n",
    "selected_catalog_data_frame.head()"
   ]
  },
  {
   "cell_type": "code",
   "execution_count": 9,
   "metadata": {},
   "outputs": [
    {
     "data": {
      "text/plain": [
       "MASTER_CATALOG_ID    100.000000\n",
       "MANUFACTURER_NAME    100.000000\n",
       "BRAND_NAME           100.000000\n",
       "PRODUCT_NAME         100.000000\n",
       "PACKS_PER_CASE       100.000000\n",
       "UNITS_PER_PACK       100.000000\n",
       "UNIT_SIZE            100.000000\n",
       "PRODUCT_COLOR         99.997029\n",
       "PRODUCT_TYPE         100.000000\n",
       "STD_NAME              68.146299\n",
       "PACKAGE_DETAIL       100.000000\n",
       "dtype: float64"
      ]
     },
     "execution_count": 9,
     "metadata": {},
     "output_type": "execute_result"
    }
   ],
   "source": [
    "check_nan(selected_catalog_data_frame)"
   ]
  },
  {
   "cell_type": "code",
   "execution_count": 10,
   "metadata": {},
   "outputs": [
    {
     "name": "stderr",
     "output_type": "stream",
     "text": [
      "/home/shreyas/miniconda2/envs/python_practice/lib/python2.7/site-packages/ipykernel_launcher.py:2: SettingWithCopyWarning: \n",
      "A value is trying to be set on a copy of a slice from a DataFrame\n",
      "\n",
      "See the caveats in the documentation: http://pandas.pydata.org/pandas-docs/stable/indexing.html#indexing-view-versus-copy\n",
      "  \n"
     ]
    },
    {
     "data": {
      "text/plain": [
       "MASTER_CATALOG_ID    100.0\n",
       "MANUFACTURER_NAME    100.0\n",
       "BRAND_NAME           100.0\n",
       "PRODUCT_NAME         100.0\n",
       "PACKS_PER_CASE       100.0\n",
       "UNITS_PER_PACK       100.0\n",
       "UNIT_SIZE            100.0\n",
       "PRODUCT_COLOR        100.0\n",
       "PRODUCT_TYPE         100.0\n",
       "STD_NAME             100.0\n",
       "PACKAGE_DETAIL       100.0\n",
       "dtype: float64"
      ]
     },
     "execution_count": 10,
     "metadata": {},
     "output_type": "execute_result"
    }
   ],
   "source": [
    "#clean data\n",
    "selected_catalog_data_frame.dropna(axis=0, inplace=True)\n",
    "check_nan(selected_catalog_data_frame)"
   ]
  },
  {
   "cell_type": "code",
   "execution_count": 11,
   "metadata": {},
   "outputs": [
    {
     "data": {
      "text/plain": [
       "22935"
      ]
     },
     "execution_count": 11,
     "metadata": {},
     "output_type": "execute_result"
    }
   ],
   "source": [
    "len(selected_catalog_data_frame)"
   ]
  },
  {
   "cell_type": "code",
   "execution_count": 12,
   "metadata": {},
   "outputs": [
    {
     "data": {
      "text/plain": [
       "<matplotlib.axes._subplots.AxesSubplot at 0x7fad73eb0450>"
      ]
     },
     "execution_count": 12,
     "metadata": {},
     "output_type": "execute_result"
    },
    {
     "data": {
      "image/png": "[encoded data removed]",
      "text/plain": [
       "<matplotlib.figure.Figure at 0x7fad73eb0090>"
      ]
     },
     "metadata": {},
     "output_type": "display_data"
    }
   ],
   "source": [
    "selected_catalog_data_frame['MANUFACTURER_NAME'].value_counts().head(10).plot(kind='bar')"
   ]
  },
  {
   "cell_type": "code",
   "execution_count": 13,
   "metadata": {},
   "outputs": [
    {
     "data": {
      "text/plain": [
       "<matplotlib.axes._subplots.AxesSubplot at 0x7fad76492650>"
      ]
     },
     "execution_count": 13,
     "metadata": {},
     "output_type": "execute_result"
    },
    {
     "data": {
      "image/png": "[encoded data removed]",
      "text/plain": [
       "<matplotlib.figure.Figure at 0x7fad742d7110>"
      ]
     },
     "metadata": {},
     "output_type": "display_data"
    }
   ],
   "source": [
    "selected_catalog_data_frame['PRODUCT_NAME'].value_counts().head(10).plot(kind='bar')"
   ]
  },
  {
   "cell_type": "code",
   "execution_count": 14,
   "metadata": {},
   "outputs": [
    {
     "data": {
      "text/plain": [
       "<matplotlib.axes._subplots.AxesSubplot at 0x7fad742d7b10>"
      ]
     },
     "execution_count": 14,
     "metadata": {},
     "output_type": "execute_result"
    },
    {
     "data": {
      "image/png": "[encoded data removed]",
      "text/plain": [
       "<matplotlib.figure.Figure at 0x7fad74210490>"
      ]
     },
     "metadata": {},
     "output_type": "display_data"
    }
   ],
   "source": [
    "selected_catalog_data_frame['PACKAGE_DETAIL'].value_counts().head(10).plot(kind='bar')"
   ]
  },
  {
   "cell_type": "code",
   "execution_count": 15,
   "metadata": {},
   "outputs": [
    {
     "data": {
      "text/plain": [
       "<matplotlib.axes._subplots.AxesSubplot at 0x7fad7421bd50>"
      ]
     },
     "execution_count": 15,
     "metadata": {},
     "output_type": "execute_result"
    },
    {
     "data": {
      "image/png": "[encoded data removed]",
      "text/plain": [
       "<matplotlib.figure.Figure at 0x7fad742910d0>"
      ]
     },
     "metadata": {},
     "output_type": "display_data"
    }
   ],
   "source": [
    "selected_catalog_data_frame['PRODUCT_TYPE'].value_counts().head(10).plot(kind='bar')"
   ]
  },
  {
   "cell_type": "code",
   "execution_count": 16,
   "metadata": {},
   "outputs": [
    {
     "data": {
      "text/html": [
       "<div>\n",
       "<style>\n",
       "    .dataframe thead tr:only-child th {\n",
       "        text-align: right;\n",
       "    }\n",
       "\n",
       "    .dataframe thead th {\n",
       "        text-align: left;\n",
       "    }\n",
       "\n",
       "    .dataframe tbody tr th {\n",
       "        vertical-align: top;\n",
       "    }\n",
       "</style>\n",
       "<table border=\"1\" class=\"dataframe\">\n",
       "  <thead>\n",
       "    <tr style=\"text-align: right;\">\n",
       "      <th></th>\n",
       "      <th>MASTER_CATALOG_ID</th>\n",
       "      <th>MANUFACTURER_NAME</th>\n",
       "      <th>BRAND_NAME</th>\n",
       "      <th>PRODUCT_NAME</th>\n",
       "      <th>PACKS_PER_CASE</th>\n",
       "      <th>UNITS_PER_PACK</th>\n",
       "      <th>UNIT_SIZE</th>\n",
       "      <th>PRODUCT_COLOR</th>\n",
       "      <th>PRODUCT_TYPE</th>\n",
       "      <th>STD_NAME</th>\n",
       "      <th>PACKAGE_DETAIL</th>\n",
       "    </tr>\n",
       "  </thead>\n",
       "  <tbody>\n",
       "    <tr>\n",
       "      <th>0</th>\n",
       "      <td>2723</td>\n",
       "      <td>constellationbrands</td>\n",
       "      <td>blufeld</td>\n",
       "      <td>blufeldmoselriesling</td>\n",
       "      <td>1</td>\n",
       "      <td>12</td>\n",
       "      <td>0.7500</td>\n",
       "      <td>white</td>\n",
       "      <td>riesling</td>\n",
       "      <td>blufeldmoselriesling1/12750mlbottle</td>\n",
       "      <td>1/12750mlbottle</td>\n",
       "    </tr>\n",
       "    <tr>\n",
       "      <th>1</th>\n",
       "      <td>2724</td>\n",
       "      <td>heavenhilldistilleries</td>\n",
       "      <td>christianbrothers</td>\n",
       "      <td>c.b.rubyport</td>\n",
       "      <td>1</td>\n",
       "      <td>6</td>\n",
       "      <td>1.5000</td>\n",
       "      <td>red</td>\n",
       "      <td>portblend</td>\n",
       "      <td>rubyport1/61.5ltrbottle</td>\n",
       "      <td>1/61.5ltrbottle</td>\n",
       "    </tr>\n",
       "    <tr>\n",
       "      <th>2</th>\n",
       "      <td>2725</td>\n",
       "      <td>constellationbrands</td>\n",
       "      <td>closdubois</td>\n",
       "      <td>closduboismerlotsonomacity</td>\n",
       "      <td>1</td>\n",
       "      <td>12</td>\n",
       "      <td>0.0875</td>\n",
       "      <td>red</td>\n",
       "      <td>merlot</td>\n",
       "      <td>closduboismerlotsonomacity1/1288mlbottle</td>\n",
       "      <td>1/1288mlbottle</td>\n",
       "    </tr>\n",
       "    <tr>\n",
       "      <th>3</th>\n",
       "      <td>2726</td>\n",
       "      <td>constellationbrands</td>\n",
       "      <td>closdubois</td>\n",
       "      <td>closduboiscabernetsauvignon</td>\n",
       "      <td>1</td>\n",
       "      <td>12</td>\n",
       "      <td>0.7500</td>\n",
       "      <td>red</td>\n",
       "      <td>cabernetsauvignon</td>\n",
       "      <td>closduboiscabernetsauvignon1/12750mlbottle</td>\n",
       "      <td>1/12750mlbottle</td>\n",
       "    </tr>\n",
       "    <tr>\n",
       "      <th>4</th>\n",
       "      <td>2727</td>\n",
       "      <td>constellationbrands</td>\n",
       "      <td>closdubois</td>\n",
       "      <td>closduboischardonnay</td>\n",
       "      <td>1</td>\n",
       "      <td>12</td>\n",
       "      <td>0.7500</td>\n",
       "      <td>white</td>\n",
       "      <td>chardonnay</td>\n",
       "      <td>closduboischardonnay1/12750mlbottle</td>\n",
       "      <td>1/12750mlbottle</td>\n",
       "    </tr>\n",
       "  </tbody>\n",
       "</table>\n",
       "</div>"
      ],
      "text/plain": [
       "   MASTER_CATALOG_ID       MANUFACTURER_NAME         BRAND_NAME  \\\n",
       "0               2723     constellationbrands            blufeld   \n",
       "1               2724  heavenhilldistilleries  christianbrothers   \n",
       "2               2725     constellationbrands         closdubois   \n",
       "3               2726     constellationbrands         closdubois   \n",
       "4               2727     constellationbrands         closdubois   \n",
       "\n",
       "                  PRODUCT_NAME  PACKS_PER_CASE  UNITS_PER_PACK  UNIT_SIZE  \\\n",
       "0         blufeldmoselriesling               1              12     0.7500   \n",
       "1                 c.b.rubyport               1               6     1.5000   \n",
       "2   closduboismerlotsonomacity               1              12     0.0875   \n",
       "3  closduboiscabernetsauvignon               1              12     0.7500   \n",
       "4         closduboischardonnay               1              12     0.7500   \n",
       "\n",
       "  PRODUCT_COLOR       PRODUCT_TYPE  \\\n",
       "0         white           riesling   \n",
       "1           red          portblend   \n",
       "2           red             merlot   \n",
       "3           red  cabernetsauvignon   \n",
       "4         white         chardonnay   \n",
       "\n",
       "                                     STD_NAME   PACKAGE_DETAIL  \n",
       "0         blufeldmoselriesling1/12750mlbottle  1/12750mlbottle  \n",
       "1                     rubyport1/61.5ltrbottle  1/61.5ltrbottle  \n",
       "2    closduboismerlotsonomacity1/1288mlbottle   1/1288mlbottle  \n",
       "3  closduboiscabernetsauvignon1/12750mlbottle  1/12750mlbottle  \n",
       "4         closduboischardonnay1/12750mlbottle  1/12750mlbottle  "
      ]
     },
     "execution_count": 16,
     "metadata": {},
     "output_type": "execute_result"
    }
   ],
   "source": [
    "#transform data\n",
    "prepared_data_frame = selected_catalog_data_frame.copy(deep=True)\n",
    "\n",
    "prepared_data_frame = prepared_data_frame.\\\n",
    "    apply(lambda column: column.apply(lambda value: value.lower().replace(' ', '')) \\\n",
    "          if column.dtype == 'object' else column)\n",
    "    \n",
    "prepared_data_frame.head()"
   ]
  },
  {
   "cell_type": "code",
   "execution_count": 106,
   "metadata": {
    "collapsed": true
   },
   "outputs": [],
   "source": [
    "train_data_frame = prepared_data_frame.copy(deep=True).sample(n=1000)"
   ]
  },
  {
   "cell_type": "code",
   "execution_count": 107,
   "metadata": {},
   "outputs": [],
   "source": [
    "#model\n",
    "\n",
    "# The model uses Levenshtein distance to determine similarity for each brand name, product type \n",
    "# in test string, then it will select row with highest sum of distance ratio.\n",
    "\n",
    "\n",
    "def get_component_distance_ratio(component_value, test_string):\n",
    "    return difflib.SequenceMatcher(None, component_value, test_string).ratio()\n",
    "\n",
    "def calculate_distance_ratio(components, test_string, train_data_frame):\n",
    "    return train_data_frame[components].applymap(lambda component_value: \\\n",
    "       get_component_distance_ratio(component_value, test_string))\n",
    "    \n",
    "def get_highest_distance_ratio_row(components, test_string, train_data_frame):\n",
    "    component_distance_ratio_data_frame = \\\n",
    "        calculate_distance_ratio(components, test_string, train_data_frame)\n",
    "        \n",
    "    component_distance_ratio_data_frame['SUM_OF_DISTANCE_RATIOS'] = component_distance_ratio_data_frame.\\\n",
    "        apply(lambda row: row[components].sum(), axis=1)\n",
    "    \n",
    "    max_value = component_distance_ratio_data_frame['SUM_OF_DISTANCE_RATIOS'].max()\n",
    "    return train_data_frame.loc[(component_distance_ratio_data_frame['SUM_OF_DISTANCE_RATIOS'] == \\\n",
    "        max_value)].head(1)['MASTER_CATALOG_ID'].values[0]\n",
    "\n",
    "def get_prediction(components, test_sample_data_frame, train_data_frame, test_column):\n",
    "    return test_sample_data_frame[test_column].apply(lambda test_string: \\\n",
    "        get_highest_distance_ratio_row(components, test_string, train_data_frame))"
   ]
  },
  {
   "cell_type": "code",
   "execution_count": 110,
   "metadata": {},
   "outputs": [],
   "source": [
    "#unit testing\n",
    "test_sample_data_frame = train_data_frame.sample(n=3)\n",
    "\n",
    "# get_component_distance_ratio('closdubois', 'closduboismerlotsonomacity1/1288mlbottle')\n",
    "\n",
    "# calculate_distance_ratio(['BRAND_NAME'], 'closduboismerlotsonomacity1/1288mlbottle',\\\n",
    "#       train_data_frame)\n",
    "\n",
    "# get_highest_distance_ratio_row(['BRAND_NAME'], 'closduboismerlotsonomacity1/1288mlbottle',\\\n",
    "#     train_data_frame)\n",
    "\n",
    "test_sample_data_frame['PREDICTION'] = get_prediction(['BRAND_NAME', 'PRODUCT_NAME', 'PACKAGE_DETAIL'],\\\n",
    "    test_sample_data_frame, train_data_frame, 'STD_NAME')"
   ]
  },
  {
   "cell_type": "code",
   "execution_count": 111,
   "metadata": {},
   "outputs": [
    {
     "data": {
      "text/html": [
       "<div>\n",
       "<style>\n",
       "    .dataframe thead tr:only-child th {\n",
       "        text-align: right;\n",
       "    }\n",
       "\n",
       "    .dataframe thead th {\n",
       "        text-align: left;\n",
       "    }\n",
       "\n",
       "    .dataframe tbody tr th {\n",
       "        vertical-align: top;\n",
       "    }\n",
       "</style>\n",
       "<table border=\"1\" class=\"dataframe\">\n",
       "  <thead>\n",
       "    <tr style=\"text-align: right;\">\n",
       "      <th></th>\n",
       "      <th>MASTER_CATALOG_ID</th>\n",
       "      <th>PREDICTION</th>\n",
       "      <th>STD_NAME</th>\n",
       "    </tr>\n",
       "  </thead>\n",
       "  <tbody>\n",
       "    <tr>\n",
       "      <th>19393</th>\n",
       "      <td>28807</td>\n",
       "      <td>28807</td>\n",
       "      <td>twobeersevolutionaryindiapaleale1/1222ozbottle</td>\n",
       "    </tr>\n",
       "    <tr>\n",
       "      <th>6848</th>\n",
       "      <td>17692</td>\n",
       "      <td>17692</td>\n",
       "      <td>wenterelizcreekpinotnoir1/12750mlbottle</td>\n",
       "    </tr>\n",
       "    <tr>\n",
       "      <th>1114</th>\n",
       "      <td>1963</td>\n",
       "      <td>1963</td>\n",
       "      <td>canadadrylemonlime2/1212ozcan</td>\n",
       "    </tr>\n",
       "  </tbody>\n",
       "</table>\n",
       "</div>"
      ],
      "text/plain": [
       "       MASTER_CATALOG_ID  PREDICTION  \\\n",
       "19393              28807       28807   \n",
       "6848               17692       17692   \n",
       "1114                1963        1963   \n",
       "\n",
       "                                             STD_NAME  \n",
       "19393  twobeersevolutionaryindiapaleale1/1222ozbottle  \n",
       "6848          wenterelizcreekpinotnoir1/12750mlbottle  \n",
       "1114                    canadadrylemonlime2/1212ozcan  "
      ]
     },
     "execution_count": 111,
     "metadata": {},
     "output_type": "execute_result"
    }
   ],
   "source": [
    "test_sample_data_frame[['MASTER_CATALOG_ID', 'PREDICTION', 'STD_NAME']]"
   ]
  },
  {
   "cell_type": "code",
   "execution_count": 112,
   "metadata": {},
   "outputs": [
    {
     "name": "stdout",
     "output_type": "stream",
     "text": [
      "accuracy 1.0\n",
      "accuracy 1.0\n",
      "accuracy 1.0\n",
      "accuracy 1.0\n",
      "accuracy 1.0\n",
      "accuracy 1.0\n",
      "accuracy 1.0\n",
      "accuracy 1.0\n",
      "accuracy 0.9\n",
      "accuracy 1.0\n",
      "mean accuracy 0.99\n"
     ]
    }
   ],
   "source": [
    "#run prediction\n",
    "\n",
    "components = ['BRAND_NAME', 'PRODUCT_NAME', 'PACKAGE_DETAIL']\n",
    "\n",
    "accuracies = []\n",
    "for i in range(10):\n",
    "    test_data_frame = train_data_frame.sample(n=10)\n",
    "    test_data_frame['PREDICTION'] = get_prediction(components,\\\n",
    "        test_data_frame, train_data_frame, 'STD_NAME')\n",
    "    accuracy = metrics.accuracy_score(test_data_frame['MASTER_CATALOG_ID'],\\\n",
    "        test_data_frame['PREDICTION'])\n",
    "    print('accuracy ' + str(accuracy))\n",
    "    accuracies.append(accuracy)\n",
    "    \n",
    "print('mean accuracy ' + str(numpy.mean(accuracies)))"
   ]
  },
  {
   "cell_type": "code",
   "execution_count": null,
   "metadata": {
    "collapsed": true
   },
   "outputs": [],
   "source": []
  }
 ],
 "metadata": {
  "kernelspec": {
   "display_name": "Python 2",
   "language": "python",
   "name": "python2"
  },
  "language_info": {
   "codemirror_mode": {
    "name": "ipython",
    "version": 2
   },
   "file_extension": ".py",
   "mimetype": "text/x-python",
   "name": "python",
   "nbconvert_exporter": "python",
   "pygments_lexer": "ipython2",
   "version": "2.7.14"
  }
 },
 "nbformat": 4,
 "nbformat_minor": 2
}
